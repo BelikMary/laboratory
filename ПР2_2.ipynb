{
  "nbformat": 4,
  "nbformat_minor": 0,
  "metadata": {
    "colab": {
      "name": "ПР2_2.ipynb",
      "provenance": [],
      "authorship_tag": "ABX9TyMHX2zmEQ6JlVL9RUjz2eEt",
      "include_colab_link": true
    },
    "kernelspec": {
      "name": "python3",
      "display_name": "Python 3"
    },
    "language_info": {
      "name": "python"
    }
  },
  "cells": [
    {
      "cell_type": "markdown",
      "metadata": {
        "id": "view-in-github",
        "colab_type": "text"
      },
      "source": [
        "<a href=\"https://colab.research.google.com/github/BelikMary/laboratory/blob/main/%D0%9F%D0%A02_2.ipynb\" target=\"_parent\"><img src=\"https://colab.research.google.com/assets/colab-badge.svg\" alt=\"Open In Colab\"/></a>"
      ]
    },
    {
      "cell_type": "code",
      "source": [
        "class Person:\n",
        "  def __init__(self,name,surname,position=1):\n",
        "    self.name=name\n",
        "    self.surname=surname\n",
        "    self.position=position\n",
        "  \n",
        "  def display(self):\n",
        "    return self.name,self.surname,self.position\n",
        "\n",
        "  def __del__(self):\n",
        "      print ('Goodbye Mr. {} {}'.format(self.name,self.surname))\n",
        "\n",
        "p1=Person('big','dude',3)      \n",
        "print (p1.display())\n",
        "\n",
        "p2=Person('small','croon',4)      \n",
        "print (p2.display())\n",
        "\n",
        "p3=Person('neutral','guy',5)      \n",
        "print (p3.display())\n",
        "\n",
        "del p2\n",
        "\n",
        "try:\n",
        "  input('Press Enter and exit')\n",
        "except SyntaxError:\n",
        "  exit()\n"
      ],
      "metadata": {
        "colab": {
          "base_uri": "https://localhost:8080/"
        },
        "id": "RtjexOsoEpKl",
        "outputId": "2c70bd76-557c-445c-c33d-175cb7ea261e"
      },
      "execution_count": 22,
      "outputs": [
        {
          "name": "stdout",
          "output_type": "stream",
          "text": [
            "('big', 'dude', 3)\n",
            "('small', 'croon', 4)\n",
            "('neutral', 'guy', 5)\n",
            "Goodbye Mr. small croon\n",
            "Goodbye Mr. big dude\n",
            "Press Enter and exit\n"
          ]
        }
      ]
    },
    {
      "cell_type": "code",
      "execution_count": 24,
      "metadata": {
        "colab": {
          "base_uri": "https://localhost:8080/"
        },
        "id": "33wMLjZOlWnN",
        "outputId": "533d269f-adc1-467a-df46-cb666fb26bdb"
      },
      "outputs": [
        {
          "output_type": "stream",
          "name": "stdout",
          "text": [
            "('Мария', 'Цайка', 5, 'АДЭУ-211', 'МГПУ')\n",
            "('Артем', 'Гумов', 5, 'АДЭУ-211', 'МГПУ')\n",
            "Молодцы!\n"
          ]
        }
      ],
      "source": [
        "grades = {3:'Задолжник', 4:'Ударник', 5:'Отличник'}\n",
        "\n",
        "class Student:\n",
        "\n",
        "  def __init__(self, name, surname, data, grade, vuz, classs=\"АДЭУ-211\"):\n",
        "    self.name = name\n",
        "    self.surname = surname\n",
        "    self.data = data\n",
        "    self.grade = grade\n",
        "    self.vuz = vuz\n",
        "    self.classs =classs\n",
        "  \n",
        "\n",
        "  def display(self):\n",
        "    return self.name,self.surname, self.grade, self.classs, self.vuz\n",
        "\n",
        "  def __del__(self):\n",
        "    return \"Отчислен студент {} {}, {}\".format(self.surname, self.name, grades[self.grade])\n",
        "\n",
        "Biba = Student('Мария',\"Цайка\",\"07.07.2003\",5,\"МГПУ\")\n",
        "Artem = Student('Артем',\"Гумов\",\"04.04.2003\",5,\"МГПУ\") \n",
        "\n",
        "print(Biba.display())\n",
        "print(Artem.display())\n",
        "\n",
        "if Biba.grade > Artem.grade:\n",
        "    print (\"Отчислен студент(ка) {} {}, {}\".format(Artem.surname, Artem.name, grades[Artem.grade]))\n",
        "    del Artem\n",
        "elif Artem.grade < 4 and Biba.grade<Artem.grade:\n",
        "    print (\"Отчислен студент(ка) {} {}, {}\".format(Biba.surname, Biba.name, grades[Biba.grade]))\n",
        "    del Biba\n",
        "else:\n",
        "    print(\"Молодцы!\")\n",
        "\n",
        "\n",
        "\n"
      ]
    }
  ]
}