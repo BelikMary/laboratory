{
  "nbformat": 4,
  "nbformat_minor": 0,
  "metadata": {
    "colab": {
      "name": "ПР1_1.ipynb",
      "provenance": [],
      "authorship_tag": "ABX9TyMjmQdqj7Et/ou1UYXtADes",
      "include_colab_link": true
    },
    "kernelspec": {
      "name": "python3",
      "display_name": "Python 3"
    },
    "language_info": {
      "name": "python"
    }
  },
  "cells": [
    {
      "cell_type": "markdown",
      "metadata": {
        "id": "view-in-github",
        "colab_type": "text"
      },
      "source": [
        "<a href=\"https://colab.research.google.com/github/BelikMary/laboratory/blob/main/%D0%9F%D0%A01_1.ipynb\" target=\"_parent\"><img src=\"https://colab.research.google.com/assets/colab-badge.svg\" alt=\"Open In Colab\"/></a>"
      ]
    },
    {
      "cell_type": "code",
      "source": [
        "#1\n",
        "class First:\n",
        "  color = 'red'\n",
        "  def out(self):\n",
        "      print (self.color + '!')\n",
        "\n",
        "obj1 = First()\n",
        "obj2 = First()\n",
        "print (obj1.color)\n",
        "print (obj2.color)\n",
        "obj1.out()\n",
        "obj2.out()"
      ],
      "metadata": {
        "colab": {
          "base_uri": "https://localhost:8080/"
        },
        "id": "_gVQ48mq4f4D",
        "outputId": "bd226874-6b7b-495b-da76-3d5ba41189f3"
      },
      "execution_count": 1,
      "outputs": [
        {
          "output_type": "stream",
          "name": "stdout",
          "text": [
            "red\n",
            "red\n",
            "red!\n",
            "red!\n"
          ]
        }
      ]
    },
    {
      "cell_type": "code",
      "source": [
        "#2\n",
        "class Second:\n",
        "  color = 'red'\n",
        "  form = 'circle'\n",
        "  size ='small'\n",
        "\n",
        "  def changecolor(self,newcolor):\n",
        "      self.color = newcolor\n",
        "  def changeform(self,newform):\n",
        "      self.form = newform\n",
        "  def changesize(self,newsize):\n",
        "      self.size = newsize\n",
        "\n",
        "obj1 = Second()\n",
        "obj2 = Second()\n",
        "obj3 = Second()\n",
        "\n",
        "print(obj1.color, obj1.form)\n",
        "print(obj2.color, obj2.form)\n",
        "print(obj3.color, obj3.form)\n",
        "\n",
        "obj1.changecolor('green')\n",
        "obj2.changecolor('blue')\n",
        "obj2.changeform('oval')\n",
        "obj3.changecolor('pink')\n",
        "obj3.changeform('ovalchik')\n",
        "obj3.changesize('big')\n",
        "\n",
        "print(obj1.color, obj1.form)\n",
        "print(obj2.color, obj2.form)\n",
        "print(obj3.color, obj3.form)"
      ],
      "metadata": {
        "colab": {
          "base_uri": "https://localhost:8080/"
        },
        "id": "_Bohjc5L5Tid",
        "outputId": "a5ee7380-983e-491f-b26a-4e7c6f9c6c0f"
      },
      "execution_count": 3,
      "outputs": [
        {
          "output_type": "stream",
          "name": "stdout",
          "text": [
            "red circle\n",
            "red circle\n",
            "red circle\n",
            "green circle\n",
            "blue oval\n",
            "pink ovalchik\n"
          ]
        }
      ]
    },
    {
      "cell_type": "code",
      "source": [
        "class Potato:\n",
        "  state='rare'\n",
        "\n",
        "class Pan:\n",
        "  brand='Tefal'\n",
        "\n",
        "  def frying(self):\n",
        "    newstate='fryed'\n",
        "    Potato.state=newstate\n",
        "    print('Now the potato is fryed!')\n",
        "\n",
        "obj1=Potato()\n",
        "obj2=Pan()\n",
        "\n",
        "print (obj2.frying())\n"
      ],
      "metadata": {
        "colab": {
          "base_uri": "https://localhost:8080/"
        },
        "id": "0LqLwPx57Mxn",
        "outputId": "acc3557c-d235-4f24-d4a0-b4ddbb83cf5e"
      },
      "execution_count": 1,
      "outputs": [
        {
          "output_type": "stream",
          "name": "stdout",
          "text": [
            "Now the potato is fryed!\n",
            "None\n"
          ]
        }
      ]
    },
    {
      "cell_type": "code",
      "source": [
        "#3\n",
        "class YesInit:\n",
        "  def __init__(self,one,two):\n",
        "    self.fname=one\n",
        "    self.sname=two\n",
        "\n",
        "obj1 = YesInit('Peter','Ok')\n",
        "\n",
        "print (obj1.fname,obj1.sname)\n",
        "\n",
        "class NoInit:\n",
        "  def names(self,one,two):\n",
        "    self.fname=one\n",
        "    self.sname=two\n",
        "\n",
        "obj1=NoInit()\n",
        "obj1.names('Peter','Ok')\n",
        "\n",
        "print (obj1.fname,obj1.sname)\n"
      ],
      "metadata": {
        "colab": {
          "base_uri": "https://localhost:8080/"
        },
        "id": "yq21peG48S62",
        "outputId": "4ed93b21-399c-453d-d93c-d4b316fdf7c3"
      },
      "execution_count": 12,
      "outputs": [
        {
          "output_type": "stream",
          "name": "stdout",
          "text": [
            "Peter Ok\n",
            "Peter Ok\n"
          ]
        }
      ]
    },
    {
      "cell_type": "code",
      "source": [
        "#4\n",
        "class YesInit:\n",
        "  def __init__(self,one='noname',two='nonametoo'):\n",
        "    self.fname=one\n",
        "    self.sname=two\n",
        "\n",
        "obj1 = YesInit('Sasha','Tu')\n",
        "obj2 = YesInit()\n",
        "obj3 = YesInit('Spartak')\n",
        "obj4 = YesInit(two='Harry')\n",
        "\n",
        "print (obj1.fname,obj1.sname)\n",
        "print (obj2.fname,obj2.sname)\n",
        "print (obj3.fname,obj3.sname)\n",
        "print (obj4.fname,obj4.sname)"
      ],
      "metadata": {
        "colab": {
          "base_uri": "https://localhost:8080/"
        },
        "id": "MrgH2knP-TEC",
        "outputId": "7695dadc-251e-4016-f959-f96944b944c4"
      },
      "execution_count": 14,
      "outputs": [
        {
          "output_type": "stream",
          "name": "stdout",
          "text": [
            "Sasha Tu\n",
            "noname nonametoo\n",
            "Spartak nonametoo\n",
            "noname Harry\n"
          ]
        }
      ]
    },
    {
      "cell_type": "code",
      "source": [
        "#5\n",
        "class fruits:\n",
        "  def __init__(self,w,n=0):\n",
        "    self.what=w\n",
        "    self.numbers=n\n",
        "\n",
        "f1=fruits('apple',150)\n",
        "f2=fruits('pineapple')\n",
        "\n",
        "print(f1.what,f1.numbers)\n",
        "print(f2.what,f2.numbers)\n",
        "\n"
      ],
      "metadata": {
        "colab": {
          "base_uri": "https://localhost:8080/"
        },
        "id": "AIXL7adv_L_3",
        "outputId": "bc9c2583-e205-4a0e-f208-53220f4821d1"
      },
      "execution_count": 16,
      "outputs": [
        {
          "output_type": "stream",
          "name": "stdout",
          "text": [
            "apple 150\n",
            "pineapple 0\n"
          ]
        }
      ]
    },
    {
      "cell_type": "code",
      "source": [
        "#6\n",
        "class Building:\n",
        "\n",
        "  def __init__(self,w,c,n=0):\n",
        "    self.what=w\n",
        "    self.color=c\n",
        "    self.numbers=n\n",
        "    self.mwhere(n)\n",
        "\n",
        "  def mwhere(self,n):\n",
        "    if n<=0:\n",
        "      self.where='отсутствуют'\n",
        "    elif 0<n<100:\n",
        "      self.where='малый склад'\n",
        "    else:\n",
        "      self.where='основной склад'\n",
        "\n",
        "  def plus(self,p):\n",
        "    self.numbers=self.numbers+p\n",
        "    self.mwhere(self.numbers)\n",
        "  def minus(self,m):\n",
        "    self.numbers=self.numbers-m\n",
        "    self.mwhere(self.numbers)\n",
        "\n",
        "class Other:\n",
        "  def __init__(self,t):\n",
        "    self.types=t\n",
        "\n",
        "  def display(self):\n",
        "    return self.types\n",
        "\n",
        "m1=Building('доски',\"белые\",50)\n",
        "m2=Building('доски',\"коричневые\",300)\n",
        "m3=Building('кирпичи',\"белые\")\n",
        "\n",
        "p1=Other('камни')\n",
        "p2=Other('песок')\n",
        "\n",
        "print(m1.what,m1.color,m1.where)\n",
        "print(m2.what,m2.color,m2.where)\n",
        "print(m3.what,m3.color,m3.where)\n",
        "\n",
        "print(p1.display())\n",
        "print(p2.display())\n",
        "\n",
        "m1.plus(500)\n",
        "print(m1.numbers,m1.where)"
      ],
      "metadata": {
        "colab": {
          "base_uri": "https://localhost:8080/"
        },
        "id": "-IppYAt2_6qy",
        "outputId": "c0605b33-87e0-4a54-a6f9-4ea6ab12ce46"
      },
      "execution_count": 20,
      "outputs": [
        {
          "output_type": "stream",
          "name": "stdout",
          "text": [
            "доски белые малый склад\n",
            "доски коричневые основной склад\n",
            "кирпичи белые отсутствуют\n",
            "камни\n",
            "песок\n",
            "550 основной склад\n"
          ]
        }
      ]
    },
    {
      "cell_type": "code",
      "source": [
        "#7\n",
        "class Things:\n",
        "  def __init__(self,n,t):\n",
        "    self.namething=n\n",
        "    self.total=t\n",
        "\n",
        "th1=Things('table',5)\n",
        "th2=Things('computer',7)\n",
        "\n",
        "print(th1.namething,th1.total)\n",
        "print(th2.namething,th2.total)\n",
        "\n",
        "th1.color='green'\n",
        "th2.color='blue'\n",
        "\n",
        "print(th1.color)\n",
        "print(th2.color)"
      ],
      "metadata": {
        "colab": {
          "base_uri": "https://localhost:8080/"
        },
        "id": "0_ikAfbfDC1o",
        "outputId": "d4d96db3-e40c-4631-fa69-2e77dc3e9d83"
      },
      "execution_count": 23,
      "outputs": [
        {
          "output_type": "stream",
          "name": "stdout",
          "text": [
            "table 5\n",
            "computer 7\n",
            "green\n",
            "blue\n"
          ]
        }
      ]
    },
    {
      "cell_type": "code",
      "source": [
        "#8\n",
        "class Table:\n",
        "    def __init__(self, l, w, h):  #инициализация конструктора для класса Тэйбл, у которого три параметра длина, ширина, высота\n",
        "        self.lenght = l\n",
        "        self.width = w\n",
        "        self.height = h\n",
        "  \n",
        "class KitchenTable(Table):\n",
        "    def __init__(self, l, w, h, p):\n",
        "        Table.__init__(self, l, w, h)\n",
        "        self.places = p\n",
        "\n",
        "class DeskTable(Table):\n",
        "    def square(self):\n",
        "      return self.width * self.lenght\n",
        "\n",
        "class ComputerTable(DeskTable):\n",
        "    def square(self, e):\n",
        "      return self.width * self.lenght - e\n",
        "\n",
        "t1 = KitchenTable(2, 2, 2.7, 2)\n",
        "t2 = DeskTable(2, 2, 2.7)\n",
        "t3 = KitchenTable(2, 2, 2.7, 2)\n",
        "\n",
        "print(t2.square())\n",
        "print(' ')\n",
        "\n",
        "ct = ComputerTable(2, 1, 1)\n",
        "print(ct.square(0.3))\n",
        "\n",
        "print(' ')\n",
        "tk = KitchenTable(2, 1.5, 0.7, 10)\n",
        "print(tk.places)\n",
        "print(tk.lenght)"
      ],
      "metadata": {
        "colab": {
          "base_uri": "https://localhost:8080/"
        },
        "id": "sIP8_BSJEAAS",
        "outputId": "2fbad96b-834a-439c-a24d-6f150e9630a2"
      },
      "execution_count": 24,
      "outputs": [
        {
          "output_type": "stream",
          "name": "stdout",
          "text": [
            "4\n",
            " \n",
            "1.7\n",
            " \n",
            "10\n",
            "2\n"
          ]
        }
      ]
    },
    {
      "cell_type": "code",
      "metadata": {
        "id": "4vUBvYJgfCes"
      },
      "source": [
        "class Figure:\n",
        "  color = \"white\"\n",
        "\n",
        "  def izmena(self):\n",
        "    self.color = 0\n",
        "    self.color = str(input(\"New color is: \"))\n",
        "    return \"Цвет фигуры изменен с белого на {}\".format(self.color)\n",
        "\n",
        "class Oval(Figure):\n",
        "  def __init__(self,big_radius, small_radius):\n",
        "    self.big_radius = big_radius\n",
        "    self.small_radius = small_radius\n",
        "\n",
        "  def sizes(self):\n",
        "    return \"Начальные размеры овала: {} * {}\".format(self.big_radius, self.small_radius)\n",
        "\n",
        "class Square(Figure):\n",
        "  def __init__(self,a):\n",
        "    self.a = a\n",
        "\n",
        "  def sizes(self):\n",
        "    return \"Начальные размеры квадрата: {}\".format(self.a)\n",
        "\n",
        "\n",
        "\n"
      ],
      "execution_count": null,
      "outputs": []
    },
    {
      "cell_type": "code",
      "metadata": {
        "colab": {
          "base_uri": "https://localhost:8080/"
        },
        "id": "bJbKKGSSGS6O",
        "outputId": "b50a48bc-f533-437c-a443-35b9602e52dd"
      },
      "source": [
        "obj1 = Oval(4,2)\n",
        "print(obj1.izmena())\n",
        "print(obj1.sizes())\n",
        "\n",
        "obj2 = Square(4)\n",
        "print(obj1.izmena())\n",
        "print(obj1.sizes())\n"
      ],
      "execution_count": null,
      "outputs": [
        {
          "output_type": "stream",
          "name": "stdout",
          "text": [
            "New color is: red\n",
            "Цвет фигуры изменен с белого на red\n",
            "Начальные размеры овала: 4 * 2\n",
            "New color is: blue\n",
            "Цвет фигуры изменен с белого на blue\n",
            "Начальные размеры овала: 4 * 2\n"
          ]
        }
      ]
    }
  ]
}