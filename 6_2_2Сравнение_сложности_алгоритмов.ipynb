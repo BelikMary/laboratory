{
  "nbformat": 4,
  "nbformat_minor": 0,
  "metadata": {
    "colab": {
      "name": "6.2.2Сравнение сложности алгоритмов.ipynb",
      "provenance": [],
      "authorship_tag": "ABX9TyPFpOpUTFlqO3Q+Lxm+Uwec",
      "include_colab_link": true
    },
    "kernelspec": {
      "name": "python3",
      "display_name": "Python 3"
    },
    "language_info": {
      "name": "python"
    }
  },
  "cells": [
    {
      "cell_type": "markdown",
      "metadata": {
        "id": "view-in-github",
        "colab_type": "text"
      },
      "source": [
        "<a href=\"https://colab.research.google.com/github/BelikMary/laboratory/blob/main/6_2_2%D0%A1%D1%80%D0%B0%D0%B2%D0%BD%D0%B5%D0%BD%D0%B8%D0%B5_%D1%81%D0%BB%D0%BE%D0%B6%D0%BD%D0%BE%D1%81%D1%82%D0%B8_%D0%B0%D0%BB%D0%B3%D0%BE%D1%80%D0%B8%D1%82%D0%BC%D0%BE%D0%B2.ipynb\" target=\"_parent\"><img src=\"https://colab.research.google.com/assets/colab-badge.svg\" alt=\"Open In Colab\"/></a>"
      ]
    },
    {
      "cell_type": "markdown",
      "source": [
        "6.2.1."
      ],
      "metadata": {
        "id": "5DBaPbDr8B_c"
      }
    },
    {
      "cell_type": "code",
      "execution_count": null,
      "metadata": {
        "colab": {
          "base_uri": "https://localhost:8080/"
        },
        "id": "V4OEHSWr3w75",
        "outputId": "28aa490c-9fde-442e-e744-8c3311cf5c40"
      },
      "outputs": [
        {
          "output_type": "execute_result",
          "data": {
            "text/plain": [
              "[-2, -2, -2, 1, 1, 2, 2, 2, 2, 2, 3, 3, 3, 4, 4, 5, 65]"
            ]
          },
          "metadata": {},
          "execution_count": 2
        }
      ],
      "source": [
        "# Программирование на языке высокого уровня (Python).\n",
        "# https://www.yuripetrov.ru/edu/python\n",
        "# Задание task_05_02_01.\n",
        "#\n",
        "# Выполнил: Белик М.К.\n",
        "# Группа: АДЭУ-211\n",
        "\n",
        "\n",
        "def foo(a):\n",
        "    \"\"\" Алгоритм сортировки списка, алгоритм с вложенными действиями.\n",
        "\n",
        "    Сложность:  O(N^2)\n",
        "    \"\"\"\n",
        "    for i in range(len(a), 0, -1):             #O(N)\n",
        "        for j in range(1, i):                  #O(N)\n",
        "            if a[j-1] > a[j]:                  #O(len(j))\n",
        "                a[j-1], a[j] = a[j], a[j-1]    #O(1)\n",
        "    return a\n",
        "\n",
        "\n",
        "a = [1, 2, 3, 4, 2, 1, 3, 4, 3, 5, -2, -2, 2, -2, 65, 2, 2]\n",
        "foo(a)\n"
      ]
    },
    {
      "cell_type": "markdown",
      "source": [
        "6.2.2."
      ],
      "metadata": {
        "id": "vEV7kd6R8G-I"
      }
    },
    {
      "cell_type": "code",
      "source": [
        "# Программирование на языке высокого уровня (Python).\n",
        "# https://www.yuripetrov.ru/edu/python\n",
        "# Задание task_05_02_01.\n",
        "#\n",
        "# Выполнил: Белик М.К.\n",
        "# Группа: АДЭУ-211\n",
        "\n",
        "def foo(i):\n",
        "    \"\"\"Алгоритм преобразования числа в строку, удаляя по одной цифре за раз и добавляя ее к результату \n",
        "\n",
        "    Параметры:\n",
        "        - i (int): число.\n",
        "\n",
        "    Сложность: O(N log N)\n",
        "    \"\"\"\n",
        "    digits = \"0123456789\"                 #O(1)\n",
        "    if i == 0:                            #O(N)\n",
        "        return \"0\"                        #O(1)\n",
        "    result = \"\"                           #O(1)\n",
        "    while i > 0:                          #O(N log N)\n",
        "        result = digits[i%10] + result    \n",
        "        i = i // 10\n",
        "    return result                         #O(1)\n"
      ],
      "metadata": {
        "id": "cf7efhPa8JIS"
      },
      "execution_count": null,
      "outputs": []
    },
    {
      "cell_type": "markdown",
      "source": [
        "6.2.3."
      ],
      "metadata": {
        "id": "gkp_MXT78I0V"
      }
    },
    {
      "cell_type": "code",
      "source": [
        "# Программирование на языке высокого уровня (Python).\n",
        "# https://www.yuripetrov.ru/edu/python\n",
        "# Задание task_05_02_01.\n",
        "#\n",
        "# Выполнил: Белик М.К.\n",
        "# Группа: АДЭУ-211\n",
        "\n",
        "\n",
        "def foo(s):\n",
        "    \"\"\"Преобразует строку в числа, как результата выводит сумму этих чисел.\n",
        "\n",
        "    Параметры:\n",
        "        - s (str): строка.\n",
        "\n",
        "    Сложность: O(N log N)\n",
        "    \"\"\"\n",
        "    val = 0                 #O(1)\n",
        "    for c in s:             \n",
        "        if c.isdigit():\n",
        "            val += int(c)\n",
        "    return val\n"
      ],
      "metadata": {
        "id": "3A_OOxU2_-79"
      },
      "execution_count": null,
      "outputs": []
    },
    {
      "cell_type": "markdown",
      "source": [
        "6.2.4\n"
      ],
      "metadata": {
        "id": "3HvLqlUkBJH7"
      }
    },
    {
      "cell_type": "code",
      "source": [
        "# Программирование на языке высокого уровня (Python).\n",
        "# https://www.yuripetrov.ru/edu/python\n",
        "# Задание task_05_02_01.\n",
        "#\n",
        "# Выполнил: Белик М.К.\n",
        "# Группа: АДЭУ-211\n",
        "\n",
        "def foo(n):\n",
        "    \"\"\"Алгоритм вычисления всех простых чисел от 1 до n, путем нахождения простых множителей числа.\n",
        "\n",
        "    Параметры:\n",
        "        - n (int): число.\n",
        "\n",
        "    Сложность: O(N^4)\n",
        "    \"\"\"\n",
        "    res = []\n",
        "    for i in range(1, n + 1):               #O(N)\n",
        "        divisors = 0                        #O(1)\n",
        "        j = 2                               #O(1)\n",
        "        while j < i and divisors == 0:      #O(N^2)\n",
        "            if i % j == 0:                  #O(N)\n",
        "                divisors += 1               #O(1)\n",
        "            j += 1                          #O(1)\n",
        "\n",
        "        if divisors == 0:                   #O(1)\n",
        "            res.append(i)                   #O(1)\n",
        "\n",
        "    return res\n"
      ],
      "metadata": {
        "id": "I-sgsYaPBLxs"
      },
      "execution_count": null,
      "outputs": []
    },
    {
      "cell_type": "markdown",
      "source": [
        "6.2.5."
      ],
      "metadata": {
        "id": "FBKRXhyYHYzC"
      }
    },
    {
      "cell_type": "code",
      "source": [
        "# Программирование на языке высокого уровня (Python).\n",
        "# https://www.yuripetrov.ru/edu/python\n",
        "# Задание task_05_02_01.\n",
        "#\n",
        "# Выполнил: Белик М.К.\n",
        "# Группа: АДЭУ-211\n",
        "\n",
        "def foo(nums):\n",
        "    \"\"\"Алгоритм проверяет список nums на наличие в нем четных чисел.\n",
        "\n",
        "    Параметры:\n",
        "        - nums (list): список.\n",
        "\n",
        "    Сложность: O(N^2)\n",
        "    \"\"\"\n",
        "    for x in nums:        #O(N)\n",
        "        if x % 2 == 0:    #O(N)\n",
        "            return True   #O(1)\n",
        "    else:\n",
        "        return False      #O(1)\n"
      ],
      "metadata": {
        "id": "CrpdhfA5JD5m"
      },
      "execution_count": null,
      "outputs": []
    },
    {
      "cell_type": "markdown",
      "source": [
        "6.2.6."
      ],
      "metadata": {
        "id": "FNGVnQSzJyii"
      }
    },
    {
      "cell_type": "code",
      "source": [
        "# Программирование на языке высокого уровня (Python).\n",
        "# https://www.yuripetrov.ru/edu/python\n",
        "# Задание task_05_02_01.\n",
        "#\n",
        "# Выполнил: Белик М.К.\n",
        "# Группа: АДЭУ-211\n",
        "\n",
        "def foo(nums):\n",
        "    \"\"\"Алгоритм складывает два списка.\n",
        "\n",
        "    Параметры:\n",
        "        - nums (list): список.\n",
        "\n",
        "    Сложность: O(2N)\n",
        "    \"\"\"\n",
        "    return (nums[0] + nums[-1] ** 2)  #O(2N)\n"
      ],
      "metadata": {
        "id": "Gi2HcQYsJ1U4"
      },
      "execution_count": null,
      "outputs": []
    },
    {
      "cell_type": "markdown",
      "source": [
        "6.2.7."
      ],
      "metadata": {
        "id": "CaOpL-58LDl_"
      }
    },
    {
      "cell_type": "code",
      "source": [
        "# Программирование на языке высокого уровня (Python).\n",
        "# https://www.yuripetrov.ru/edu/python\n",
        "# Задание task_05_02_01.\n",
        "#\n",
        "# Выполнил: Белик М.К.\n",
        "# Группа: АДЭУ-211\n",
        "\n",
        "def foo(low, high):\n",
        "    \"\"\"Алгоритм вычисления искомого числа, путем последовательного уменьшения диапозона, в котором находится искомое число\n",
        "    Параметры:\n",
        "        - low (int): нижняя граница;\n",
        "        - high (int): верхняя граница.\n",
        "\n",
        "    Сложность: O(N^4)\n",
        "    \"\"\"\n",
        "    guessing = True                                     #O(1)\n",
        "    while guessing:                                     #O(N)\n",
        "        guess = (low + high) // 2                       #O(1)\n",
        "        print(\"Загаданное число {0}?\".format(guess))    #O(1)\n",
        "        pointer = input(                                #O(1)\n",
        "            \"Введите '+', если Ваше число меньше.\\n\"\n",
        "            \"Введите '-' если Ваше число больше.\\n\"\n",
        "            \"Введите '=', если я угадал.\\n\").lower()\n",
        "        if pointer == \"+\":                              #O(N)\n",
        "            high = guess                                #O(1)\n",
        "        elif pointer == \"-\":                            #O(N)                            \n",
        "            low = guess                                 #O(1)\n",
        "        elif pointer == \"=\":                            #O(N)\n",
        "            guessing = False                            #O(1)\n",
        "        else:\n",
        "            print(\"Введите '+', '-' или '='.\")          #O(1)\n",
        "\n",
        "    return guess                                        #O(1)\n",
        "\n",
        "\n",
        "# ЗАКОММЕНТИРУЙТЕ этот код перед запуском проверки\n",
        "#low, high = 0, 100\n",
        "#print(\"Пожалуйста, загадайте число от {0} до {1}!\".format(low, high))\n",
        "#guess = foo(low, high)\n",
        "#print(\"Игра окончена, Вы загадали число: {0}.\".format(guess))\n"
      ],
      "metadata": {
        "id": "-0hpJcsCLFd8"
      },
      "execution_count": null,
      "outputs": []
    }
  ]
}