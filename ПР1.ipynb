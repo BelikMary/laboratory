{
  "nbformat": 4,
  "nbformat_minor": 0,
  "metadata": {
    "colab": {
      "name": "ПР1.ipynb",
      "provenance": [],
      "authorship_tag": "ABX9TyOsggC7lb8WNwdhgPO64vd+",
      "include_colab_link": true
    },
    "kernelspec": {
      "name": "python3",
      "display_name": "Python 3"
    },
    "language_info": {
      "name": "python"
    }
  },
  "cells": [
    {
      "cell_type": "markdown",
      "metadata": {
        "id": "view-in-github",
        "colab_type": "text"
      },
      "source": [
        "<a href=\"https://colab.research.google.com/github/BelikMary/laboratory/blob/main/%D0%9F%D0%A01.ipynb\" target=\"_parent\"><img src=\"https://colab.research.google.com/assets/colab-badge.svg\" alt=\"Open In Colab\"/></a>"
      ]
    },
    {
      "cell_type": "code",
      "metadata": {
        "id": "4vUBvYJgfCes"
      },
      "source": [
        "class Figure:\n",
        "  color = \"white\"\n",
        "\n",
        "  def izmena(self):\n",
        "    self.color = 0\n",
        "    self.color = str(input(\"New color is: \"))\n",
        "    return \"Цвет фигуры изменен с белого на {}\".format(self.color)\n",
        "\n",
        "class Oval(Figure):\n",
        "  def __init__(self,big_radius, small_radius):\n",
        "    self.big_radius = big_radius\n",
        "    self.small_radius = small_radius\n",
        "\n",
        "  def sizes(self):\n",
        "    return \"Начальные размеры овала: {} * {}\".format(self.big_radius, self.small_radius)\n",
        "\n",
        "class Square(Figure):\n",
        "  def __init__(self,a):\n",
        "    self.a = a\n",
        "\n",
        "  def sizes(self):\n",
        "    return \"Начальные размеры квадрата: {}\".format(self.a)\n",
        "\n",
        "\n",
        "\n"
      ],
      "execution_count": 10,
      "outputs": []
    },
    {
      "cell_type": "code",
      "metadata": {
        "colab": {
          "base_uri": "https://localhost:8080/"
        },
        "id": "bJbKKGSSGS6O",
        "outputId": "b50a48bc-f533-437c-a443-35b9602e52dd"
      },
      "source": [
        "obj1 = Oval(4,2)\n",
        "print(obj1.izmena())\n",
        "print(obj1.sizes())\n",
        "\n",
        "obj2 = Square(4)\n",
        "print(obj1.izmena())\n",
        "print(obj1.sizes())\n"
      ],
      "execution_count": 11,
      "outputs": [
        {
          "output_type": "stream",
          "name": "stdout",
          "text": [
            "New color is: red\n",
            "Цвет фигуры изменен с белого на red\n",
            "Начальные размеры овала: 4 * 2\n",
            "New color is: blue\n",
            "Цвет фигуры изменен с белого на blue\n",
            "Начальные размеры овала: 4 * 2\n"
          ]
        }
      ]
    }
  ]
}