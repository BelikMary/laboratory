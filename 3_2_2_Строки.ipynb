{
  "nbformat": 4,
  "nbformat_minor": 0,
  "metadata": {
    "colab": {
      "name": "3.2.2. Строки.ipynb",
      "provenance": [],
      "collapsed_sections": [],
      "authorship_tag": "ABX9TyMy7vdFf5+OPO4UnDzHycij",
      "include_colab_link": true
    },
    "kernelspec": {
      "name": "python3",
      "display_name": "Python 3"
    },
    "language_info": {
      "name": "python"
    }
  },
  "cells": [
    {
      "cell_type": "markdown",
      "metadata": {
        "id": "view-in-github",
        "colab_type": "text"
      },
      "source": [
        "<a href=\"https://colab.research.google.com/github/BelikMary/laboratory/blob/main/3_2_2_%D0%A1%D1%82%D1%80%D0%BE%D0%BA%D0%B8.ipynb\" target=\"_parent\"><img src=\"https://colab.research.google.com/assets/colab-badge.svg\" alt=\"Open In Colab\"/></a>"
      ]
    },
    {
      "cell_type": "markdown",
      "metadata": {
        "id": "nAtlvIddmU9W"
      },
      "source": [
        "№ 3.2.7\n",
        "\n",
        "Составьте программу, которая запрашивает название футбольной команды и повторяет его на экране со словами\n",
        "\n",
        "... - чемпион!\n",
        "После этого выполните:\n",
        "\n",
        "используя операцию дублирования, нарисуйте черту (набор \"-\"), длиной, равной размеру названия команды;\n",
        "\n",
        "преобразуйте строку в нижний регистр и выведите на экран:\n",
        "\n",
        "длину наименования команды;\n",
        "\n",
        "есть ли в наименовании команды буква \"п\" (True/False)?\n",
        "\n",
        "сколько раз повторяется буква \"а\"?"
      ]
    },
    {
      "cell_type": "code",
      "metadata": {
        "colab": {
          "base_uri": "https://localhost:8080/"
        },
        "id": "tc4z7EGNmPVg",
        "outputId": "986598f0-bf1a-4abc-c96a-f270d6c88f5e"
      },
      "source": [
        "# Программирование на языке высокого уровня (Python).\n",
        "# https://www.yuripetrov.ru/edu/python\n",
        "# Задание task_03_02_07.\n",
        "#\n",
        "# Выполнил: Белик М.К.\n",
        "# Группа: АДЭУ-211\n",
        "# E-mail: !!!\n",
        "\n",
        "\n",
        "team = input(\"Введите название команды: \")\n",
        "\n",
        "print(team + '- чемпион!')\n",
        "print('-' * len(team))\n",
        "\n",
        "# Название команды в нижнем регистре\n",
        "l1 = team.lower()\n",
        "l = len(l1)\n",
        "print(\"Символов в названии команды\", l)\n",
        "s = 'п'in l1\n",
        "print('Буква \"п\" есть:', s)\n",
        "k = l1.find(\"а\")\n",
        "print('Количество букв \"а\":',k)\n",
        "\n",
        "\n",
        "# --------------\n",
        "# Пример вывода:\n",
        "#\n",
        "# Введите название команды: Спартак\n",
        "# Спартак - чемпион!\n",
        "# -------\n",
        "# Символов в названии команды: 7\n",
        "# Буква \"п\" есть: True\n",
        "# Количество букв \"а\": 2\n"
      ],
      "execution_count": 8,
      "outputs": [
        {
          "output_type": "stream",
          "name": "stdout",
          "text": [
            "Введите название команды: Спартак\n",
            "Спартак- чемпион!\n",
            "-------\n",
            "Символов в названии команды 7\n",
            "Буква \"п\" есть: True\n",
            "Количество букв \"а\": 2\n"
          ]
        }
      ]
    },
    {
      "cell_type": "markdown",
      "metadata": {
        "id": "6z7O2pQFsUoL"
      },
      "source": [
        "№ 3.2.8\n",
        "\n",
        "Составьте программу, которая запрашивает название государства и его столицы, а затем выводит сообщение:\n",
        "\n",
        "Государство - ..., столица - ...\n",
        "\n",
        "На месте многоточий должны быть выведены соответствующие значения."
      ]
    },
    {
      "cell_type": "code",
      "metadata": {
        "colab": {
          "base_uri": "https://localhost:8080/"
        },
        "id": "gyP3mZKOsVwz",
        "outputId": "a4d0fd28-1192-40f1-a488-346ad8a42f8f"
      },
      "source": [
        "# Программирование на языке высокого уровня (Python).\n",
        "# https://www.yuripetrov.ru/edu/python\n",
        "# Задание task_03_02_08.\n",
        "#\n",
        "# Выполнил: Белик М.К.\n",
        "# Группа: АДЭУ-211\n",
        "# E-mail: !!!\n",
        "\n",
        "\n",
        "# Название государства\n",
        "country = input(\"Введите название государства: \")\n",
        "# Название столицы\n",
        "capital = input(\"Введите название столицы: \")\n",
        "\n",
        "s = \"Государство - {}, столица - {}\".format(country, capital)\n",
        "print(s)\n",
        "\n",
        "# --------------\n",
        "# Пример вывода:\n",
        "#\n",
        "# Введите название государства: Россия\n",
        "# Введите название столицы: Москва\n",
        "# Государство - Россия, столица - Москва\n"
      ],
      "execution_count": 11,
      "outputs": [
        {
          "output_type": "stream",
          "name": "stdout",
          "text": [
            "Введите название государства: РОССИЯ\n",
            "Введите название столицы: МОСКВА\n",
            "Государство - РОССИЯ, столица - МОСКВА\n"
          ]
        }
      ]
    },
    {
      "cell_type": "markdown",
      "metadata": {
        "id": "ZpIZuQo8umcp"
      },
      "source": [
        "№ 3.2.9\n",
        "\n",
        "Дано слово объектно-ориентированный. Используя индексацию и срезы составьте из него слова объект, ориентир, тир, кот, рента и выведите их на экран."
      ]
    },
    {
      "cell_type": "code",
      "metadata": {
        "colab": {
          "base_uri": "https://localhost:8080/"
        },
        "id": "j3bzkASAun-M",
        "outputId": "dafdb0ad-6a1a-4f92-b65a-1ec6a6e6e6f5"
      },
      "source": [
        "# Программирование на языке высокого уровня (Python).\n",
        "# https://www.yuripetrov.ru/edu/python\n",
        "# Задание task_03_02_09.\n",
        "#\n",
        "# Выполнил: БЕЛИК М.К.\n",
        "# Группа: АДЭУ-211\n",
        "# E-mail: !!!\n",
        "\n",
        "\n",
        "word = \"объектно-ориентированный\"\n",
        "\n",
        "w1 = word[:6]  # (слово объект)\n",
        "w2 = word[9:17]\n",
        "w3 = word[14:17]\n",
        "w4 = word[4:16:5]\n",
        "w5 = word[10] + word[12:15] + word[19]\n",
        "\n",
        "print(w1, w2, w3, w4, w5, sep=\"\\n\")\n",
        "\n",
        "\n",
        "# --------------\n",
        "# Пример вывода:\n",
        "#\n",
        "# объект\n",
        "# ориентир\n",
        "# тир\n",
        "# кот\n",
        "# рента\n"
      ],
      "execution_count": 12,
      "outputs": [
        {
          "output_type": "stream",
          "name": "stdout",
          "text": [
            "объект\n",
            "ориентир\n",
            "тир\n",
            "кот\n",
            "рента\n"
          ]
        }
      ]
    }
  ]
}