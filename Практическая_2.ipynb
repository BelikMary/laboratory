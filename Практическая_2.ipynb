{
  "cells": [
    {
      "cell_type": "markdown",
      "metadata": {
        "id": "view-in-github",
        "colab_type": "text"
      },
      "source": [
        "<a href=\"https://colab.research.google.com/github/BelikMary/laboratory/blob/main/%D0%9F%D1%80%D0%B0%D0%BA%D1%82%D0%B8%D1%87%D0%B5%D1%81%D0%BA%D0%B0%D1%8F_2.ipynb\" target=\"_parent\"><img src=\"https://colab.research.google.com/assets/colab-badge.svg\" alt=\"Open In Colab\"/></a>"
      ]
    },
    {
      "cell_type": "code",
      "source": [
        "class Person:\n",
        "  def setName(self, n, s):\n",
        "    self.name=n\n",
        "    self.surname=s\n",
        "\n",
        "class Person2:\n",
        "  def __init__(self, n, s):\n",
        "    self.name=n\n",
        "    self.surname=s"
      ],
      "metadata": {
        "id": "niu6Zx8HYrXY"
      },
      "execution_count": null,
      "outputs": []
    },
    {
      "cell_type": "code",
      "source": [
        "p1=Person()\n",
        "p1.setName('Dill','Ross')\n",
        "print(p1.name, p1.surname)\n",
        "\n",
        "p2=Person2('Sam','Baker')\n",
        "print(p2.name,p2.surname)"
      ],
      "metadata": {
        "colab": {
          "base_uri": "https://localhost:8080/"
        },
        "id": "KUHbNSfjY5yO",
        "outputId": "3b3294eb-ae03-4e41-a968-cd06a439d1a7"
      },
      "execution_count": null,
      "outputs": [
        {
          "output_type": "stream",
          "name": "stdout",
          "text": [
            "Dill Ross\n",
            "Sam Baker\n"
          ]
        }
      ]
    },
    {
      "cell_type": "code",
      "source": [
        "class Rectangle:\n",
        "  def __init__(self, w=0.5,h=1):\n",
        "    self.width=w\n",
        "    self.height=h\n",
        "  def square(self):\n",
        "    return self.width*self.height\n",
        "rec1=Rectangle(5,2)\n",
        "rec2=Rectangle()\n",
        "rec3=Rectangle(3)\n",
        "rec4=Rectangle(h=4)\n",
        "print(rec1.square())\n",
        "print(rec2.square())\n",
        "print(rec3.square())\n",
        "print(rec4.square())"
      ],
      "metadata": {
        "colab": {
          "base_uri": "https://localhost:8080/"
        },
        "id": "AVnAkjgiZBSO",
        "outputId": "162c0433-4e74-45c7-a4fc-3c83a3ba9497"
      },
      "execution_count": null,
      "outputs": [
        {
          "output_type": "stream",
          "name": "stdout",
          "text": [
            "10\n",
            "0.5\n",
            "3\n",
            "2.0\n"
          ]
        }
      ]
    },
    {
      "cell_type": "code",
      "execution_count": null,
      "metadata": {
        "colab": {
          "base_uri": "https://localhost:8080/"
        },
        "id": "RtjexOsoEpKl",
        "outputId": "2c70bd76-557c-445c-c33d-175cb7ea261e"
      },
      "outputs": [
        {
          "name": "stdout",
          "output_type": "stream",
          "text": [
            "('big', 'dude', 3)\n",
            "('small', 'croon', 4)\n",
            "('neutral', 'guy', 5)\n",
            "Goodbye Mr. small croon\n",
            "Goodbye Mr. big dude\n",
            "Press Enter and exit\n"
          ]
        }
      ],
      "source": [
        "class Person:\n",
        "  def __init__(self,name,surname,position=1):\n",
        "    self.name=name\n",
        "    self.surname=surname\n",
        "    self.position=position\n",
        "  \n",
        "  def display(self):\n",
        "    return self.name,self.surname,self.position\n",
        "\n",
        "  def __del__(self):\n",
        "      print ('Goodbye Mr. {} {}'.format(self.name,self.surname))\n",
        "\n",
        "p1=Person('big','dude',3)      \n",
        "print (p1.display())\n",
        "\n",
        "p2=Person('small','croon',4)      \n",
        "print (p2.display())\n",
        "\n",
        "p3=Person('neutral','guy',5)      \n",
        "print (p3.display())\n",
        "\n",
        "del p2\n",
        "\n",
        "try:\n",
        "  input('Press Enter and exit')\n",
        "except SyntaxError:\n",
        "  exit()\n"
      ]
    },
    {
      "cell_type": "code",
      "execution_count": 19,
      "metadata": {
        "colab": {
          "base_uri": "https://localhost:8080/"
        },
        "id": "33wMLjZOlWnN",
        "outputId": "9d8ed83c-b81c-4db4-d3a1-08bc23184245"
      },
      "outputs": [
        {
          "output_type": "stream",
          "name": "stdout",
          "text": [
            "('Мария', 'Ком', 'Задолжник', 'АДЭУ-211', 'МГПУ')\n",
            "('Артем', 'Гумов', 'Ударник', 'АДЭУ-211', 'МГПУ')\n",
            "Отчислен студент Ком Мария, Задолжник\n"
          ]
        }
      ],
      "source": [
        "grades = {2:'Задолжник',3:'Задолжник', 4:'Ударник', 5:'Отличник'}\n",
        "\n",
        "class Student:\n",
        "\n",
        "  def __init__(self, name, surname, data, grade, vuz, classs=\"АДЭУ-211\"):\n",
        "    self.name = name\n",
        "    self.surname = surname\n",
        "    self.data = data\n",
        "    self.grade = grade\n",
        "    self.vuz = vuz\n",
        "    self.classs =classs\n",
        "\n",
        "  def display(self):\n",
        "    return self.name,self.surname, grades[self.grade], self.classs, self.vuz\n",
        "\n",
        "  def __del__(self):\n",
        "    if self.grade < 4:\n",
        "      print(\"Отчислен студент {} {}, {}\".format(self.surname, self.name, grades[self.grade]))\n",
        "\n",
        "s1 = Student('Мария',\"Ком\",\"07.07.2003\",2,\"МГПУ\")\n",
        "s2 = Student('Артем',\"Гумов\",\"04.04.2003\",4,\"МГПУ\") \n",
        "\n",
        "print(s1.display())\n",
        "print(s2.display())\n",
        "\n",
        "if s1.grade>s2.grade:\n",
        "  del s2\n",
        "elif s1.grade==5 and s2.grade==5:\n",
        "    print(\"Молодцы!\")\n",
        "else:\n",
        "  del s1\n",
        "\n",
        "\n",
        "\n"
      ]
    }
  ],
  "metadata": {
    "colab": {
      "name": "Практическая_2.ipynb",
      "provenance": [],
      "authorship_tag": "ABX9TyPgX3IQMvX3428HRwtI+76q",
      "include_colab_link": true
    },
    "kernelspec": {
      "display_name": "Python 3",
      "name": "python3"
    },
    "language_info": {
      "name": "python"
    }
  },
  "nbformat": 4,
  "nbformat_minor": 0
}