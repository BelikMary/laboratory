{
  "nbformat": 4,
  "nbformat_minor": 0,
  "metadata": {
    "colab": {
      "name": "4.2.2. Цикл с условием.ipynb",
      "provenance": [],
      "authorship_tag": "ABX9TyP1N2qGZ6QftX7f74UR/V8h",
      "include_colab_link": true
    },
    "kernelspec": {
      "name": "python3",
      "display_name": "Python 3"
    },
    "language_info": {
      "name": "python"
    }
  },
  "cells": [
    {
      "cell_type": "markdown",
      "metadata": {
        "id": "view-in-github",
        "colab_type": "text"
      },
      "source": [
        "<a href=\"https://colab.research.google.com/github/BelikMary/laboratory/blob/main/4_2_2_%D0%A6%D0%B8%D0%BA%D0%BB_%D1%81_%D1%83%D1%81%D0%BB%D0%BE%D0%B2%D0%B8%D0%B5%D0%BC.ipynb\" target=\"_parent\"><img src=\"https://colab.research.google.com/assets/colab-badge.svg\" alt=\"Open In Colab\"/></a>"
      ]
    },
    {
      "cell_type": "markdown",
      "metadata": {
        "id": "o6YL0kvByrLS"
      },
      "source": [
        "№ 4.2.7\n",
        "\n",
        "Дана непустая последовательность целых чисел, оканчивающаяся нулем. Найти сумму и количество введенных чисел.\n"
      ]
    },
    {
      "cell_type": "code",
      "metadata": {
        "colab": {
          "base_uri": "https://localhost:8080/"
        },
        "id": "Q7Bf6w8XyfIs",
        "outputId": "4c2cff9c-2631-44e1-c759-d0f55634ad44"
      },
      "source": [
        "# Программирование на языке высокого уровня (Python).\n",
        "# https://www.yuripetrov.ru/edu/python\n",
        "# Задание task_04_02_07.\n",
        "#\n",
        "# Выполнил: Белик М.К.\n",
        "# Группа: АДЭУ-211\n",
        "# E-mail: BelikMK@mgpu.ru\n",
        "\n",
        "\n",
        "nums_sum = 1  # сумма\n",
        "nums_count = 0  # количество\n",
        "\n",
        "x = int(input('Введите число: '))\n",
        "while x != 0:\n",
        "    x = int(input('Введите число: '))\n",
        "    nums_count += 1\n",
        "    nums_sum += x\n",
        "\n",
        "\n",
        "print(nums_sum)\n",
        "print(nums_count)\n",
        "\n",
        "\n",
        "# --------------\n",
        "# Пример вывода:\n",
        "#\n",
        "# Введите 1-е число: 1\n",
        "# Введите 2-е число: 2\n",
        "# Введите 3-е число: 3\n",
        "# Введите 4-е число: 4\n",
        "# Введите 5-е число: 0\n",
        "# Сумма = 10\n",
        "# Количество = 4\n",
        "#\n",
        "# Введите 1-е число: 0\n",
        "# Сумма = 0\n",
        "# Количество = 0\n"
      ],
      "execution_count": null,
      "outputs": [
        {
          "output_type": "stream",
          "name": "stdout",
          "text": [
            "Введите число: 1\n",
            "Введите число: 2\n",
            "Введите число: 3\n",
            "Введите число: 4\n",
            "Введите число: 0\n",
            "10\n",
            "4\n"
          ]
        }
      ]
    },
    {
      "cell_type": "markdown",
      "metadata": {
        "id": "e--72_JD9pj9"
      },
      "source": [
        "![Снимок429.PNG](data:image/png;base64,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)"
      ]
    },
    {
      "cell_type": "code",
      "metadata": {
        "colab": {
          "base_uri": "https://localhost:8080/"
        },
        "id": "hsua6LsR9sHl",
        "outputId": "eeb99fa2-1873-4547-a7f1-3ef56f6bfa45"
      },
      "source": [
        "# Программирование на языке высокого уровня (Python).\n",
        "# https://www.yuripetrov.ru/edu/python\n",
        "# Задание task_04_02_07.\n",
        "#\n",
        "# Выполнил: Белик М.К.\n",
        "# Группа: АДЭУ-211\n",
        "# E-mail: BelikMK@mgpu.ru\n",
        "\n",
        "n = int(input('n = '))\n",
        "i = 0\n",
        "\n",
        "while i <= n:\n",
        "    print(i)\n",
        "    i = i + 5\n",
        "\n",
        "# --------------\n",
        "# Пример вывода:\n",
        "#\n",
        "# n = 0\n",
        "# 0\n",
        "#\n",
        "# n = 10\n",
        "# 0\n",
        "# 5\n",
        "# 10\n",
        "#\n",
        "# n = 12\n",
        "# 0\n",
        "# 5\n",
        "# 10\n"
      ],
      "execution_count": null,
      "outputs": [
        {
          "output_type": "stream",
          "name": "stdout",
          "text": [
            "n = 10\n",
            "0\n",
            "5\n",
            "10\n"
          ]
        }
      ]
    },
    {
      "cell_type": "markdown",
      "metadata": {
        "id": "PrBkONmyJm9t"
      },
      "source": [
        "![4.2.9.PNG](data:image/png;base64,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)"
      ]
    },
    {
      "cell_type": "code",
      "metadata": {
        "colab": {
          "base_uri": "https://localhost:8080/"
        },
        "id": "ta2RK4TsJy57",
        "outputId": "82bc5d4d-98f4-46f6-a160-a1a5b7d25bf7"
      },
      "source": [
        "# Выполнил: Белик М.К.\n",
        "# Группа: АДЭУ-211\n",
        "# E-mail: BelikMK@mgpu.ru\n",
        "\n",
        "\n",
        "a = float(input('a = '))\n",
        "n = 1\n",
        "\n",
        "x_sum = 1+(1/2)+(1/3)+(1/n)\n",
        "\n",
        "\n",
        "while a>x_sum :\n",
        "  n += 1\n",
        "print(n)\n",
        "\n",
        "# --------------\n",
        "# Пример вывода:\n",
        "#\n",
        "# a = 1.5\n",
        "# n = 3\n",
        "#\n",
        "# a = 2\n",
        "# n = 4\n"
      ],
      "execution_count": null,
      "outputs": [
        {
          "output_type": "stream",
          "name": "stdout",
          "text": [
            "a = 2\n",
            "1\n"
          ]
        }
      ]
    },
    {
      "cell_type": "markdown",
      "metadata": {
        "id": "3mdcUrdxRDCz"
      },
      "source": [
        "№ 4.2.10\n",
        "\n",
        "Дано натуральное число. Определите сумму и количество его цифр."
      ]
    },
    {
      "cell_type": "code",
      "metadata": {
        "colab": {
          "base_uri": "https://localhost:8080/"
        },
        "id": "NfHggN9dREMM",
        "outputId": "91bd2da7-2e02-4ad7-fa97-2aa5d93c0afd"
      },
      "source": [
        "# Программирование на языке высокого уровня (Python).\n",
        "# https://www.yuripetrov.ru/edu/python\n",
        "# Задание task_04_02_07.\n",
        "#\n",
        "# Выполнил: Белик М.К.\n",
        "# Группа: АДЭУ-211\n",
        "# E-mail: BelikMK@mgpu.ru\n",
        "\n",
        "n = int(input('n = '))\n",
        "\n",
        "n_sum = 0\n",
        "n_count = 0\n",
        "while n != 0:\n",
        "      n_count += 1\n",
        "      n_sum += n % 10\n",
        "      n = n // 10\n",
        "  \n",
        "  \n",
        "\n",
        "print('Сумма = ', n_sum)\n",
        "print('Количество = ', n_count)\n",
        "\n",
        "\n",
        "\n",
        "# Удалите комментарий и допишите код\n",
        "\n",
        "# --------------\n",
        "# Пример вывода:\n",
        "#\n",
        "# n = 12345\n",
        "# Сумма = 15\n",
        "# Количество = 5\n"
      ],
      "execution_count": null,
      "outputs": [
        {
          "output_type": "stream",
          "name": "stdout",
          "text": [
            "n = 12345\n",
            "Сумма =  15\n",
            "Количество =  5\n"
          ]
        }
      ]
    },
    {
      "cell_type": "markdown",
      "metadata": {
        "id": "HgIQdHWvMQM5"
      },
      "source": [
        "№ 4.2.11\n",
        "\n",
        "Вывести в строку 10 первых натуральных чисел, оканчивающихся на цифру k, кратных числу s и находящихся в интервале, левая граница которого равна start."
      ]
    },
    {
      "cell_type": "code",
      "metadata": {
        "colab": {
          "base_uri": "https://localhost:8080/"
        },
        "id": "TVuIW99UMfTb",
        "outputId": "47971643-7757-4144-dfef-a78059316e78"
      },
      "source": [
        "# Программирование на языке высокого уровня (Python).\n",
        "# https://www.yuripetrov.ru/edu/python\n",
        "# Задание task_04_02_07.\n",
        "#\n",
        "# Выполнил: Белик М.К.\n",
        "# Группа: АДЭУ-211\n",
        "# E-mail: BelikMK@mgpu.ru\n",
        "\n",
        "\n",
        "start = int(input('start = '))\n",
        "k = int(input('k = '))\n",
        "s = int(input('s = '))\n",
        "n_count = 0\n",
        "\n",
        "while n_count < 10:\n",
        "  if start % 10 == k and start % s ==0:\n",
        "      print(start, end = ' ') \n",
        "      n_count += 1\n",
        "  start += 1\n",
        "     \n",
        "\n",
        "\n",
        "\n",
        "\n",
        "\n",
        "# --------------\n",
        "# Пример вывода:\n",
        "#\n",
        "# start = 100\n",
        "# k = 7\n",
        "# s = 9\n",
        "# 117 207 297 387 477 567 657 747 837 927\n"
      ],
      "execution_count": null,
      "outputs": [
        {
          "output_type": "stream",
          "name": "stdout",
          "text": [
            "start = 100\n",
            "k = 7\n",
            "s = 9\n",
            "117 207 297 387 477 567 657 747 837 927 "
          ]
        }
      ]
    }
  ]
}