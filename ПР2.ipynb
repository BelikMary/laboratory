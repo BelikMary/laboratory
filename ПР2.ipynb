{
  "nbformat": 4,
  "nbformat_minor": 0,
  "metadata": {
    "colab": {
      "name": "ПР2.ipynb",
      "provenance": [],
      "authorship_tag": "ABX9TyPgqhyFnplBtmWmBN3Rz9og",
      "include_colab_link": true
    },
    "kernelspec": {
      "name": "python3",
      "display_name": "Python 3"
    },
    "language_info": {
      "name": "python"
    }
  },
  "cells": [
    {
      "cell_type": "markdown",
      "metadata": {
        "id": "view-in-github",
        "colab_type": "text"
      },
      "source": [
        "<a href=\"https://colab.research.google.com/github/BelikMary/laboratory/blob/main/%D0%9F%D0%A02.ipynb\" target=\"_parent\"><img src=\"https://colab.research.google.com/assets/colab-badge.svg\" alt=\"Open In Colab\"/></a>"
      ]
    },
    {
      "cell_type": "code",
      "execution_count": null,
      "metadata": {
        "colab": {
          "base_uri": "https://localhost:8080/"
        },
        "id": "33wMLjZOlWnN",
        "outputId": "17f2a247-1cd4-4485-aa60-be1855d606ab"
      },
      "outputs": [
        {
          "output_type": "stream",
          "name": "stdout",
          "text": [
            "('Мария', 'Цайка', 5, 'АДЭУ-211', 'МГПУ')\n",
            "('Артем', 'Гумов', 3, 'АДЭУ-211', 'МГПУ')\n",
            "Отчислен студент(ка) Гумов Артем, Задолжник\n"
          ]
        }
      ],
      "source": [
        "grades = {3:'Задолжник', 4:'Ударник', 5:'Отличник'}\n",
        "\n",
        "class Student:\n",
        "\n",
        "  def __init__(self, name, surname, data, grade, vuz, classs=\"АДЭУ-211\"):\n",
        "    self.name = name\n",
        "    self.surname = surname\n",
        "    self.data = data\n",
        "    self.grade = grade\n",
        "    self.vuz = vuz\n",
        "    self.classs =classs\n",
        "  \n",
        "\n",
        "  def display(self):\n",
        "    return self.name,self.surname, self.grade, self.classs, self.vuz\n",
        "\n",
        "  def __del__(self):\n",
        "    return \"Отчислен студент(ка) {} {}, {}\".format(self.surname, self.name, grades[self.grade])\n",
        "\n",
        "Biba = Student('Мария',\"Цайка\",\"07.07.2003\",5,\"МГПУ\")\n",
        "Artem = Student('Артем',\"Гумов\",\"04.04.2003\",3,\"МГПУ\") \n",
        "\n",
        "print(Biba.display())\n",
        "print(Artem.display())\n",
        "\n",
        "if Biba.grade > Artem.grade:\n",
        "    print (\"Отчислен студент(ка) {} {}, {}\".format(Artem.surname, Artem.name, grades[Artem.grade]))\n",
        "    del Artem\n",
        "elif Artem.grade < 4 and Biba.grade<Artem.grade:\n",
        "    print (\"Отчислен студент(ка) {} {}, {}\".format(Biba.surname, Biba.name, grades[Biba.grade]))\n",
        "    del Biba\n",
        "else:\n",
        "    print(\"Молодцы!\")\n",
        "\n"
      ]
    }
  ]
}