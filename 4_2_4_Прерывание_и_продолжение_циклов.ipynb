{
  "nbformat": 4,
  "nbformat_minor": 0,
  "metadata": {
    "colab": {
      "name": "4.2.4.Прерывание и продолжение циклов.ipynb",
      "provenance": [],
      "authorship_tag": "ABX9TyMoncvVUl4iI1ReHj13HfnE",
      "include_colab_link": true
    },
    "kernelspec": {
      "name": "python3",
      "display_name": "Python 3"
    },
    "language_info": {
      "name": "python"
    }
  },
  "cells": [
    {
      "cell_type": "markdown",
      "metadata": {
        "id": "view-in-github",
        "colab_type": "text"
      },
      "source": [
        "<a href=\"https://colab.research.google.com/github/BelikMary/laboratory/blob/main/4_2_4_%D0%9F%D1%80%D0%B5%D1%80%D1%8B%D0%B2%D0%B0%D0%BD%D0%B8%D0%B5_%D0%B8_%D0%BF%D1%80%D0%BE%D0%B4%D0%BE%D0%BB%D0%B6%D0%B5%D0%BD%D0%B8%D0%B5_%D1%86%D0%B8%D0%BA%D0%BB%D0%BE%D0%B2.ipynb\" target=\"_parent\"><img src=\"https://colab.research.google.com/assets/colab-badge.svg\" alt=\"Open In Colab\"/></a>"
      ]
    },
    {
      "cell_type": "markdown",
      "metadata": {
        "id": "lRXtd0EEtb_Y"
      },
      "source": [
        "№ 4.2.17\n",
        "\n",
        "Решите задачу № 4.2.7, организовав бесконечный цикл, который бы прерывался при выполнении условия, используя оператор break.\n",
        "\n",
        "№ 4.2.7\n",
        "\n",
        "Дана непустая последовательность целых чисел, оканчивающаяся нулем. Найти сумму и количество введенных чисел."
      ]
    },
    {
      "cell_type": "code",
      "metadata": {
        "colab": {
          "base_uri": "https://localhost:8080/"
        },
        "id": "-A2jGW0AtQ0W",
        "outputId": "280a884c-1dc2-45b2-c633-d66108584dd9"
      },
      "source": [
        "# Программирование на языке высокого уровня (Python).\n",
        "# https://www.yuripetrov.ru/edu/python\n",
        "# Задание task_04_02_07.\n",
        "#\n",
        "# Выполнил: Белик М.К.\n",
        "# Группа: АДЭУ-211\n",
        "# E-mail: BelikMK@mgpu.ru\n",
        "\n",
        "\n",
        "nums_sum = 0  # сумма\n",
        "nums_count = -1  # количество\n",
        "\n",
        "while True:\n",
        "    x = int(input('Введите число:'))\n",
        "    nums_sum +=x\n",
        "    nums_count += 1\n",
        "    if x == 0:\n",
        "        break\n",
        "\n",
        "print('Сумма = ', nums_sum)\n",
        "print('Количество = ', nums_count)\n",
        "\n",
        "\n",
        "# --------------\n",
        "# Пример вывода:\n",
        "#\n",
        "# Введите 1-е число: 1\n",
        "# Введите 2-е число: 2\n",
        "# Введите 3-е число: 3\n",
        "# Введите 4-е число: 4\n",
        "# Введите 5-е число: 0\n",
        "# Сумма = 10\n",
        "# Количество = 4\n",
        "#\n",
        "# Введите 1-е число: 0\n",
        "# Сумма = 0\n",
        "# Количество = 0\n"
      ],
      "execution_count": 10,
      "outputs": [
        {
          "output_type": "stream",
          "name": "stdout",
          "text": [
            "Введите число:1\n",
            "Введите число:2\n",
            "Введите число:3\n",
            "Введите число:4\n",
            "Введите число:0\n",
            "Сумма =  10\n",
            "Количество =  4\n"
          ]
        }
      ]
    },
    {
      "cell_type": "markdown",
      "metadata": {
        "id": "8P5anYUm26t9"
      },
      "source": [
        "№ 4.2.18\n",
        "\n",
        "Предложение, введенное с клавиатуры, содержит слова из гласных и согласных букв кириллицы (регистр может быть различный), а также пробелы.\n",
        "\n",
        "Определите количество гласных и согласных букв в предложении. Для пропуска пробелов используйте оператор continue."
      ]
    },
    {
      "cell_type": "code",
      "metadata": {
        "colab": {
          "base_uri": "https://localhost:8080/"
        },
        "id": "_r3yrRTo3K7s",
        "outputId": "a0ce66c2-bfd7-4a6b-e2b9-324c123097ec"
      },
      "source": [
        "# Программирование на языке высокого уровня (Python).\n",
        "# https://www.yuripetrov.ru/edu/python\n",
        "# Задание task_04_02_07.\n",
        "#\n",
        "# Выполнил: Белик М.К.\n",
        "# Группа: АДЭУ-211\n",
        "# E-mail: BelikMK@mgpu.ru\n",
        "\n",
        "\n",
        "sentence = str(input())\n",
        "\n",
        "count_gl = 0  # Кол-во гласных\n",
        "count_sogl = 0  # Кол-во согласных\n",
        "gl = 'ауоыиэяюёе'\n",
        "for i in sentence:\n",
        "    if i in gl:\n",
        "      count_gl += 1\n",
        "    else:\n",
        "      count_sogl += 1\n",
        "\n",
        "print('Кол-во букв в предложении: гласных - {}, согласных - {}'.format(count_gl, count_sogl) )\n",
        "\n",
        "# Удалите комментарий и допишите код\n",
        "\n",
        "# --------------\n",
        "# Пример вывода:\n",
        "#\n",
        "# Введите предложение: Программирование\n",
        "# Кол-во букв в предложении: гласных - 7, согласных - 9\n"
      ],
      "execution_count": 6,
      "outputs": [
        {
          "output_type": "stream",
          "name": "stdout",
          "text": [
            "Программирование\n",
            "Кол-во букв в предложении: гласных - 7, согласных - 9\n"
          ]
        }
      ]
    }
  ]
}