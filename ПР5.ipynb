{
  "nbformat": 4,
  "nbformat_minor": 0,
  "metadata": {
    "colab": {
      "name": "ПР5.ipynb",
      "provenance": [],
      "authorship_tag": "ABX9TyNZ2sCFc2J3J475YpYBKv7E",
      "include_colab_link": true
    },
    "kernelspec": {
      "name": "python3",
      "display_name": "Python 3"
    },
    "language_info": {
      "name": "python"
    }
  },
  "cells": [
    {
      "cell_type": "markdown",
      "metadata": {
        "id": "view-in-github",
        "colab_type": "text"
      },
      "source": [
        "<a href=\"https://colab.research.google.com/github/BelikMary/laboratory/blob/main/%D0%9F%D0%A05.ipynb\" target=\"_parent\"><img src=\"https://colab.research.google.com/assets/colab-badge.svg\" alt=\"Open In Colab\"/></a>"
      ]
    },
    {
      "cell_type": "markdown",
      "source": [
        "# **ПР 5-1**"
      ],
      "metadata": {
        "id": "-Q7EuHki4lTG"
      }
    },
    {
      "cell_type": "code",
      "metadata": {
        "id": "F6hILGqYAeHI"
      },
      "source": [
        "class Win_Door:\n",
        "  def __init__(self, x, y):\n",
        "    self.square = x*y\n",
        "\n",
        "class Room:\n",
        "  def __init__(self, x, y, z):\n",
        "      self.square = 2*z*(x+y)\n",
        "      self.wd = []\n",
        "  def addWD(self, w, h):\n",
        "      self.wd.append(Win_Door(w, h))\n",
        "  def workSurface(self):\n",
        "      new_square = self.square\n",
        "      for i in self.wd:\n",
        "        new_square -= i.square\n",
        "      return new_square"
      ],
      "execution_count": null,
      "outputs": []
    },
    {
      "cell_type": "code",
      "metadata": {
        "colab": {
          "base_uri": "https://localhost:8080/"
        },
        "id": "IgZR3aEoGaLg",
        "outputId": "6235ae86-77be-4115-c8d0-505baa2549d7"
      },
      "source": [
        "r1=Room(6, 3, 2.7)\n",
        "print(r1.square)\n",
        "r1.addWD(1,1)\n",
        "r1.addWD(1,1)\n",
        "r1.addWD(1,2)\n",
        "print(r1.workSurface())"
      ],
      "execution_count": null,
      "outputs": [
        {
          "output_type": "stream",
          "name": "stdout",
          "text": [
            "48.6\n",
            "44.6\n"
          ]
        }
      ]
    },
    {
      "cell_type": "code",
      "source": [
        "import math\n",
        "\n",
        "class Win_Door:\n",
        "  def __init__(self, x, y):\n",
        "    self.square = x*y\n",
        "\n",
        "class Room:\n",
        "  def __init__(self, width,lenght,hight):\n",
        "    self.hight=hight\n",
        "    self.lenght=lenght\n",
        "    self.width=width\n",
        "    self.wd = []\n",
        "\n",
        "  def addWD(self, w, h):\n",
        "      self.wd.append(Win_Door(w, h))\n",
        "\n",
        "  def FullSquare(self):\n",
        "    self.square = round(2*self.hight*(self.lenght+self.width),2)\n",
        "    return self.square\n",
        "\n",
        "  def WorkSquare(self):\n",
        "    new_square = self.square\n",
        "    for i in self.wd:\n",
        "        new_square -= i.square\n",
        "    return new_square\n",
        "\n",
        "  def oboi(self,Owidth, Olenght):\n",
        "    self.Olenght=Olenght\n",
        "    self.Owidth=Owidth\n",
        "    self.calc= math.ceil(self.square/(self.Owidth*self.Olenght)) \n",
        "    return self.calc\n",
        "\n",
        "r2=Room(6,6,2.7)\n",
        "print(r2.FullSquare())\n",
        "r2.addWD(1,1)\n",
        "r2.addWD(1,1)\n",
        "r2.addWD(1,2)\n",
        "print(r2.WorkSquare())\n",
        "r2.oboi(2,6)"
      ],
      "metadata": {
        "colab": {
          "base_uri": "https://localhost:8080/"
        },
        "id": "GD9-7J39zQHQ",
        "outputId": "4c2fa3d4-1204-4430-9235-c47bd0181f7a"
      },
      "execution_count": 1,
      "outputs": [
        {
          "output_type": "stream",
          "name": "stdout",
          "text": [
            "64.8\n",
            "60.8\n"
          ]
        },
        {
          "output_type": "execute_result",
          "data": {
            "text/plain": [
              "6"
            ]
          },
          "metadata": {},
          "execution_count": 1
        }
      ]
    },
    {
      "cell_type": "markdown",
      "source": [
        "# **ПР 5-2**"
      ],
      "metadata": {
        "id": "xP5pN8I34yiN"
      }
    },
    {
      "cell_type": "code",
      "source": [
        "#planimetry.py\n",
        "\n",
        "from math import pi, pow\n",
        "\n",
        "class Rectangle:\n",
        "  def __init__(self,a,b):\n",
        "    self.width=a\n",
        "    self.height=b\n",
        "  def square(self):\n",
        "    return round(self.width * self.height, 2)\n",
        "  def perimeter(self):\n",
        "    return 2 * (self.width + self.height)\n",
        "\n",
        "class Circle:\n",
        "  def __init__(self,radius):\n",
        "    self.r=radius\n",
        "  def square(self):\n",
        "    return round(pi * pow(self.r, 2), 2)\n",
        "  def lenght(self):\n",
        "    return round(2 * pi * self.r)"
      ],
      "metadata": {
        "id": "JM4VuFlF7mKY"
      },
      "execution_count": 3,
      "outputs": []
    },
    {
      "cell_type": "code",
      "source": [
        "#stereometry.py\n",
        "\n",
        "from math import pi, pow\n",
        "\n",
        "class Cuboid:\n",
        "  def __init__(self,a,b,c):\n",
        "    self.lenght=a\n",
        "    self.width=b\n",
        "    self.height=c\n",
        "    self.__squareSurface = 2* (a*b+a*c+b*c)\n",
        "    self.__volume = a*b*c\n",
        "  def S(self):\n",
        "    return round(self.__squareSurface,2)\n",
        "  def V(self):\n",
        "    return round(self.__volume,2)\n",
        "\n",
        "class Ball:\n",
        "  def __init__(self,radius):\n",
        "    self.r=radius\n",
        "  def S(self):\n",
        "    s=4*pi*pow(self.r,2)\n",
        "  def V(self):\n",
        "    v=(4/3)*pi*pow(self.r,3)\n",
        "    return round(v,2)"
      ],
      "metadata": {
        "id": "hzUrSM-c9GJa"
      },
      "execution_count": 6,
      "outputs": []
    }
  ]
}