{
  "nbformat": 4,
  "nbformat_minor": 0,
  "metadata": {
    "colab": {
      "name": "4.2.1 Условный оператор.ipynb",
      "provenance": [],
      "authorship_tag": "ABX9TyPclEyKxCw8rKJ4N9hrrAq+",
      "include_colab_link": true
    },
    "kernelspec": {
      "name": "python3",
      "display_name": "Python 3"
    },
    "language_info": {
      "name": "python"
    }
  },
  "cells": [
    {
      "cell_type": "markdown",
      "metadata": {
        "id": "view-in-github",
        "colab_type": "text"
      },
      "source": [
        "<a href=\"https://colab.research.google.com/github/BelikMary/laboratory/blob/main/4_2_1_%D0%A3%D1%81%D0%BB%D0%BE%D0%B2%D0%BD%D1%8B%D0%B9_%D0%BE%D0%BF%D0%B5%D1%80%D0%B0%D1%82%D0%BE%D1%80.ipynb\" target=\"_parent\"><img src=\"https://colab.research.google.com/assets/colab-badge.svg\" alt=\"Open In Colab\"/></a>"
      ]
    },
    {
      "cell_type": "markdown",
      "metadata": {
        "id": "TvEOJty4kj7U"
      },
      "source": [
        "![4.2.1.PNG](data:image/png;base64,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)"
      ]
    },
    {
      "cell_type": "code",
      "metadata": {
        "colab": {
          "base_uri": "https://localhost:8080/"
        },
        "id": "QEayQxBLiibp",
        "outputId": "70c8f86e-c8f9-4986-e396-324982b50b4b"
      },
      "source": [
        "# Программирование на языке высокого уровня (Python).\n",
        "# https://www.yuripetrov.ru/edu/python\n",
        "# Задание task_04_02_01.\n",
        "#\n",
        "# Выполнил: Белик М.К.\n",
        "# Группа: АДЭУ-211\n",
        "# E-mail: BelikMK@mgpu.ru\n",
        "\n",
        "\n",
        "x = int(input(\"x =\"))\n",
        "\n",
        "if x >= 0:\n",
        "    f = x**(1/2) + x**2\n",
        "else:\n",
        "    f = 1 / x\n",
        "\n",
        "print(round(f, 2))\n",
        "\n",
        "# --------------\n",
        "# Пример вывода:\n",
        "#\n",
        "# Введите число x: -10\n",
        "# f = -0.10\n",
        "\n",
        "# Введите число x: 0\n",
        "# f = 0.00\n",
        "\n",
        "# Введите число x: 10\n",
        "# f = 103.16\n"
      ],
      "execution_count": 4,
      "outputs": [
        {
          "output_type": "stream",
          "name": "stdout",
          "text": [
            "x =-10\n",
            "-0.1\n"
          ]
        }
      ]
    },
    {
      "cell_type": "markdown",
      "metadata": {
        "id": "7JWNZhqnnFfG"
      },
      "source": [
        "№ 4.2.2\n",
        "\n",
        "Определите максимальное и минимальное значения из двух различных целых чисел."
      ]
    },
    {
      "cell_type": "code",
      "metadata": {
        "colab": {
          "base_uri": "https://localhost:8080/"
        },
        "id": "Ewi6IJqlnGfr",
        "outputId": "4fa535bb-084d-43f2-8d67-094856e509b5"
      },
      "source": [
        "a1 = int(input('a1 ='))\n",
        "a2 = int(input('a1 ='))\n",
        "\n",
        "# Переменная 'a_min' должна содержать минимум, 'a_max' - максимум\n",
        "if a1 >= a2:\n",
        "  print('Максимум: ', a1)\n",
        "  print('Минимум: ', a2)\n",
        "else:\n",
        "  print('Максимум: ', a2)\n",
        "  print('Минимум: ', a1)\n",
        "\n",
        "# Удалите комментарий и допишите код\n",
        "\n",
        "# --------------\n",
        "# Пример вывода:\n",
        "#\n",
        "# Введите первое число: 1\n",
        "# Введите второе число: 2\n",
        "# Максимум: 2, минимум: 1\n",
        "\n",
        "# Введите первое число: 5\n",
        "# Введите второе число: 5\n",
        "# Максимум: 5, минимум: 5\n",
        "\n",
        "# Введите первое число: 100\n",
        "# Введите второе число: -1\n",
        "# Максимум: 100, минимум: -1\n"
      ],
      "execution_count": 6,
      "outputs": [
        {
          "output_type": "stream",
          "name": "stdout",
          "text": [
            "a1 =-9\n",
            "a1 =100\n",
            "Максимум:  100\n",
            "Минимум:  -9\n"
          ]
        }
      ]
    },
    {
      "cell_type": "markdown",
      "metadata": {
        "id": "sVMJKCtWokWu"
      },
      "source": [
        "№ 4.2.3\n",
        "\n",
        "Вася пытается высунуть голову в форточку размерами a и b см. Приняв условно, что его голова - круглая диаметром d см, определите, сможет ли Вася сделать это. Для прохождения головы в форточку необходим зазор в 1 см. с каждой стороны.\n",
        "\n",
        "Все величины - целые числа."
      ]
    },
    {
      "cell_type": "code",
      "metadata": {
        "colab": {
          "base_uri": "https://localhost:8080/"
        },
        "id": "dqWdPmh4oqwz",
        "outputId": "bf760512-96ff-44b3-f307-685e361802c6"
      },
      "source": [
        "a = int(input('Ширина форточки: '))\n",
        "b = int(input('Высота форточки: '))\n",
        "d = int(input('Диаметр головы: '))\n",
        "\n",
        "# Введенные числа должны быть положительными, если так - осуществляем\n",
        "# расчет, иначе выводим \"Проверьте ввод\"\n",
        "\n",
        "a1 = a-2\n",
        "b1 = b-2\n",
        "      \n",
        "if b1 >= d & a1 >= d:\n",
        "  print('yes')\n",
        "else:\n",
        "  print('no')\n",
        "\n",
        "\n",
        "# --------------\n",
        "# Пример вывода:\n",
        "#\n",
        "# Ширина форточки: 5\n",
        "# Высота форточки: 6\n",
        "# Диаметр головы: 6\n",
        "# Нет\n",
        "\n",
        "# Ширина форточки: 6\n",
        "# Высота форточки: 7\n",
        "# Диаметр головы: 4\n",
        "# Да\n"
      ],
      "execution_count": 34,
      "outputs": [
        {
          "output_type": "stream",
          "name": "stdout",
          "text": [
            "Ширина форточки: 6\n",
            "Высота форточки: 7\n",
            "Диаметр головы: 4\n",
            "yes\n"
          ]
        }
      ]
    },
    {
      "cell_type": "markdown",
      "metadata": {
        "id": "24cgG10bvpkP"
      },
      "source": [
        "№ 4.2.4\n",
        "\n",
        "Известны год и номер месяца сегодняшнего дня, а также год и номер месяца рождения человека (нумерация месяцев с 1: январь - 1 и т.д.). Определите возраст человека (число полных лет)."
      ]
    },
    {
      "cell_type": "code",
      "metadata": {
        "colab": {
          "base_uri": "https://localhost:8080/"
        },
        "id": "-m10x2J_vq9a",
        "outputId": "82023084-9b14-4c57-db09-8aaae4291450"
      },
      "source": [
        "year_today = int(input(\"Введите текущий год: \"))\n",
        "month_today = int(input(\"Введите текущий месяц: \"))\n",
        "\n",
        "year = int(input(\"Введите год рождения: \"))\n",
        "month = int(input(\"Введите месяц рождения: \"))\n",
        "\n",
        "# Считается, введенные значения находятся в допустимых пределах,и\n",
        "# что 'month_today' >= 'month' (проверять значения не нужно)\n",
        "# Результат необходимо записать в переменную 'age'\n",
        "if month_today >= month:\n",
        "  age = year_today - year\n",
        "else:\n",
        "  age = year_today - year - 1\n",
        "\n",
        "print(\"Число полных лет: \", age)\n",
        "\n",
        "# --------------\n",
        "# Пример вывода:\n",
        "#\n",
        "# Введите текущий год: 2017\n",
        "# Введите текущий месяц: 5\n",
        "# Введите год рождения: 2000\n",
        "# Введите месяц рождения: 1\n",
        "# Число полных лет:  17\n",
        "#\n",
        "# Введите текущий год: 2015\n",
        "# Введите текущий месяц: 6\n",
        "# Введите год рождения: 2010\n",
        "# Введите месяц рождения: 8\n",
        "# Число полных лет:  4\n",
        "#\n",
        "# Введите текущий год: 2020\n",
        "# Введите текущий месяц: 5\n",
        "# Введите год рождения: 2000\n",
        "# Введите месяц рождения: 5\n",
        "# Число полных лет:  20\n"
      ],
      "execution_count": 29,
      "outputs": [
        {
          "output_type": "stream",
          "name": "stdout",
          "text": [
            "Введите текущий год: 2020\n",
            "Введите текущий месяц: 5\n",
            "Введите год рождения: 2000\n",
            "Введите месяц рождения: 5\n",
            "Число полных лет:  20\n"
          ]
        }
      ]
    },
    {
      "cell_type": "markdown",
      "metadata": {
        "id": "f_r7brcvxT7a"
      },
      "source": [
        "№ 4.2.5\n",
        "\n",
        "Дана точка с целыми ненулевыми координатами (x; y) . Определить номер четверти координатной плоскости, которой она принадлежит."
      ]
    },
    {
      "cell_type": "code",
      "metadata": {
        "colab": {
          "base_uri": "https://localhost:8080/"
        },
        "id": "HxS5SwO0xXe0",
        "outputId": "d6bc3bb8-d569-4e63-8fe5-e0d0dd8cb32f"
      },
      "source": [
        "x = int(input('Введите координату x: '))\n",
        "y = int(input('Введите координату y: '))\n",
        "\n",
        "if x>=0 & y>=0:\n",
        "    print(\"1-я четверть\")\n",
        "elif x>=0 & y<=0:\n",
        "    print(\"4-я четверть\")\n",
        "elif x<=0 & y<=0:\n",
        "    print(\"3-я четверть\")\n",
        "elif x<=0 & y>=0:\n",
        "    print(\"2-я четверть\")\n",
        "\n",
        "# Удалите комментарий и допишите код\n",
        "\n",
        "# --------------\n",
        "# Пример вывода:\n",
        "#\n",
        "# Введите координату x: 5\n",
        "# Введите координату y: 7\n",
        "# 1-я четверть\n"
      ],
      "execution_count": 40,
      "outputs": [
        {
          "output_type": "stream",
          "name": "stdout",
          "text": [
            "Введите координату x: -7\n",
            "Введите координату y: -8\n",
            "3-я четверть\n"
          ]
        }
      ]
    },
    {
      "cell_type": "markdown",
      "metadata": {
        "id": "t4AUrVIlvGAP"
      },
      "source": [
        "![Снимок22.PNG](data:image/png;base64,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)"
      ]
    },
    {
      "cell_type": "code",
      "metadata": {
        "colab": {
          "base_uri": "https://localhost:8080/"
        },
        "id": "CDsgvQovvIuj",
        "outputId": "2ff5e122-b7d8-4a72-eb90-56fd3d422ca0"
      },
      "source": [
        "a = int(input('a = '))\n",
        "b = int(input('b = '))\n",
        "c = int(input('c = '))\n",
        "\n",
        "# Расчет дискриминанта\n",
        "D = 4*b + a*c*(-4)\n",
        "\n",
        "# Вывод решения в зависимости от значения дискриминанта\n",
        "# При выводе значений оставьте 1 знак после запятой\n",
        "if D > 0:\n",
        "  x1 =((-1)*b + D**(1/2))/(2*a)\n",
        "  x2 =((-1)*b - D**(1/2))/(2*a)\n",
        "  print(round(x1, 1))\n",
        "  print(round(x2, 1))\n",
        "elif D == 0:\n",
        "  x = ((-1)*b)/(2*a)\n",
        "  print(round(x,1))\n",
        "else:\n",
        "  print('Нет решений')\n",
        "\n",
        "# --------------\n",
        "# Пример вывода:\n",
        "#\n",
        "# a = 1\n",
        "# b = 2\n",
        "# c = 3\n",
        "# Решений нет\n",
        "#\n",
        "# a = 1\n",
        "# b = 2\n",
        "# c = 1\n",
        "# x = -1.0\n",
        "#\n",
        "# a = 1\n",
        "# b = 3\n",
        "# c = -4\n",
        "# x1 = -4.0, x2 = 1.0\n"
      ],
      "execution_count": 13,
      "outputs": [
        {
          "output_type": "stream",
          "name": "stdout",
          "text": [
            "a = 1\n",
            "b = 2\n",
            "c = -4\n",
            "1.4\n",
            "-3.4\n"
          ]
        }
      ]
    }
  ]
}